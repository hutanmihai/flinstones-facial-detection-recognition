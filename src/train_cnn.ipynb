{
 "cells": [
  {
   "cell_type": "markdown",
   "source": [
    "# Imports"
   ],
   "metadata": {
    "collapsed": false
   },
   "id": "9e447e62548b1d8d"
  },
  {
   "cell_type": "code",
   "outputs": [],
   "source": [
    "import time\n",
    "\n",
    "import torch\n",
    "import torch.nn as nn\n",
    "from torch.nn import Sequential\n",
    "from torch.optim import Adam\n",
    "from torchvision.datasets import ImageFolder\n",
    "from torch.utils.data import DataLoader\n",
    "from torchvision import transforms\n",
    "\n",
    "from src.constants import CNN_TRAIN_IMAGES_PATH, CNN_VALIDATION_IMAGES_PATH, MODEL_PATH\n",
    "import matplotlib.pyplot as plt"
   ],
   "metadata": {
    "collapsed": false,
    "ExecuteTime": {
     "end_time": "2024-01-04T14:11:34.000089800Z",
     "start_time": "2024-01-04T14:11:30.804858600Z"
    }
   },
   "id": "14f18fbf15fe3e65",
   "execution_count": 1
  },
  {
   "cell_type": "markdown",
   "source": [
    "# Constants"
   ],
   "metadata": {
    "collapsed": false
   },
   "id": "d386c3900068456c"
  },
  {
   "cell_type": "code",
   "outputs": [],
   "source": [
    "INIT_LR = 1e-5\n",
    "BATCH_SIZE = 64\n",
    "EPOCHS = 10"
   ],
   "metadata": {
    "collapsed": false,
    "ExecuteTime": {
     "end_time": "2024-01-04T14:11:34.005505500Z",
     "start_time": "2024-01-04T14:11:34.001497600Z"
    }
   },
   "id": "314d8b8f1e7b41d7",
   "execution_count": 2
  },
  {
   "cell_type": "markdown",
   "source": [
    "# Initializations"
   ],
   "metadata": {
    "collapsed": false
   },
   "id": "b470ec5a28b71279"
  },
  {
   "cell_type": "code",
   "outputs": [],
   "source": [
    "device = torch.device(\"cuda\" if torch.cuda.is_available() else \"cpu\")"
   ],
   "metadata": {
    "collapsed": false,
    "ExecuteTime": {
     "end_time": "2024-01-04T14:11:34.027789300Z",
     "start_time": "2024-01-04T14:11:34.003505700Z"
    }
   },
   "id": "d5fc639de296706e",
   "execution_count": 3
  },
  {
   "cell_type": "markdown",
   "source": [
    "# Data loading"
   ],
   "metadata": {
    "collapsed": false
   },
   "id": "18edc7972ad9540a"
  },
  {
   "cell_type": "code",
   "outputs": [],
   "source": [
    "transform = transforms.Compose([transforms.ToTensor()])\n",
    "trainImages = ImageFolder(CNN_TRAIN_IMAGES_PATH, transform=transform)\n",
    "valImages = ImageFolder(CNN_VALIDATION_IMAGES_PATH, transform=transform)\n",
    "trainDataLoader = DataLoader(trainImages, shuffle=True, batch_size=BATCH_SIZE)\n",
    "valDataLoader = DataLoader(valImages, batch_size=BATCH_SIZE)"
   ],
   "metadata": {
    "collapsed": false,
    "ExecuteTime": {
     "end_time": "2024-01-04T14:11:34.410928400Z",
     "start_time": "2024-01-04T14:11:34.027288400Z"
    }
   },
   "id": "b97721b88f5e22c9",
   "execution_count": 4
  },
  {
   "cell_type": "markdown",
   "source": [
    "# Visualizing the data"
   ],
   "metadata": {
    "collapsed": false
   },
   "id": "31d29d349665f864"
  },
  {
   "cell_type": "code",
   "outputs": [
    {
     "data": {
      "text/plain": "<Figure size 1000x1000 with 2 Axes>",
      "image/png": "[encoded data removed]"
     },
     "metadata": {},
     "output_type": "display_data"
    }
   ],
   "source": [
    "plot = plt.figure(figsize=(10, 10))\n",
    "positive_found = False\n",
    "negative_found = False\n",
    "\n",
    "for x, y in trainDataLoader:\n",
    "    for i in range(BATCH_SIZE):\n",
    "        if y[i] == 0 and not negative_found:\n",
    "            negative_found = True\n",
    "            plot.add_subplot(1, 2, 1)\n",
    "            plt.imshow(x[i].permute(1, 2, 0))\n",
    "            plt.title(y[i])\n",
    "            plt.axis(\"off\")\n",
    "        elif y[i] == 1 and not positive_found:\n",
    "            positive_found = True\n",
    "            plot.add_subplot(1, 2, 2)\n",
    "            plt.imshow(x[i].permute(1, 2, 0))\n",
    "            plt.title(y[i])\n",
    "            plt.axis(\"off\")\n",
    "    break"
   ],
   "metadata": {
    "collapsed": false,
    "ExecuteTime": {
     "end_time": "2024-01-04T14:11:35.083595Z",
     "start_time": "2024-01-04T14:11:34.757990400Z"
    }
   },
   "id": "a515e7b7f5d726aa",
   "execution_count": 5
  },
  {
   "cell_type": "markdown",
   "source": [
    "# Model"
   ],
   "metadata": {
    "collapsed": false
   },
   "id": "bd57033d885c0f90"
  },
  {
   "cell_type": "code",
   "outputs": [],
   "source": [
    "model = Sequential(\n",
    "    # Input: 3x40x40\n",
    "    nn.Conv2d(in_channels=3, out_channels=16, kernel_size=3, padding=1),\n",
    "    nn.ReLU(),\n",
    "    nn.MaxPool2d(2, 2),\n",
    "    nn.Conv2d(in_channels=16, out_channels=32, kernel_size=3, padding=1),\n",
    "    nn.ReLU(),\n",
    "    nn.MaxPool2d(2, 2),\n",
    "    nn.Conv2d(in_channels=32, out_channels=64, kernel_size=3, padding=1),\n",
    "    nn.ReLU(),\n",
    "    nn.MaxPool2d(2, 2),\n",
    "    nn.Flatten(),\n",
    "    nn.Dropout(0.25),\n",
    "    nn.Linear(64 * 5 * 5, 256),\n",
    "    nn.ReLU(),\n",
    "    nn.Dropout(0.25),\n",
    "    nn.Linear(256, 1),\n",
    "    nn.Sigmoid(),\n",
    ").to(device)"
   ],
   "metadata": {
    "collapsed": false,
    "ExecuteTime": {
     "end_time": "2024-01-04T14:11:35.423991100Z",
     "start_time": "2024-01-04T14:11:35.240864600Z"
    }
   },
   "id": "cd5f080d0c866206",
   "execution_count": 6
  },
  {
   "cell_type": "markdown",
   "source": [
    "# Optimizer and loss function"
   ],
   "metadata": {
    "collapsed": false
   },
   "id": "8bb1a23f254ccc54"
  },
  {
   "cell_type": "code",
   "outputs": [],
   "source": [
    "optimizer = Adam(model.parameters(), lr=INIT_LR)\n",
    "loss_function = nn.BCELoss()\n",
    "\n",
    "trainSteps = len(trainDataLoader.dataset) // BATCH_SIZE\n",
    "valSteps = len(valDataLoader.dataset) // BATCH_SIZE"
   ],
   "metadata": {
    "collapsed": false,
    "ExecuteTime": {
     "end_time": "2024-01-04T14:11:36.681311600Z",
     "start_time": "2024-01-04T14:11:36.632799400Z"
    }
   },
   "id": "947463307e6243ab",
   "execution_count": 7
  },
  {
   "cell_type": "markdown",
   "source": [
    "# Training"
   ],
   "metadata": {
    "collapsed": false
   },
   "id": "84047c349e13df52"
  },
  {
   "cell_type": "code",
   "outputs": [
    {
     "name": "stdout",
     "output_type": "stream",
     "text": [
      "[INFO] training the network...\n",
      "[INFO] EPOCH: 1/10\n",
      "Train loss: 0.237159, Train accuracy: 0.9189\n",
      "[INFO] EPOCH: 2/10\n",
      "Train loss: 0.049324, Train accuracy: 0.9843\n",
      "[INFO] EPOCH: 3/10\n",
      "Train loss: 0.038105, Train accuracy: 0.9874\n",
      "[INFO] EPOCH: 4/10\n",
      "Train loss: 0.033691, Train accuracy: 0.9888\n",
      "[INFO] EPOCH: 5/10\n",
      "Train loss: 0.030763, Train accuracy: 0.9898\n",
      "[INFO] EPOCH: 6/10\n",
      "Train loss: 0.028571, Train accuracy: 0.9905\n",
      "[INFO] EPOCH: 7/10\n",
      "Train loss: 0.026215, Train accuracy: 0.9914\n",
      "[INFO] EPOCH: 8/10\n",
      "Train loss: 0.024521, Train accuracy: 0.9919\n",
      "[INFO] EPOCH: 9/10\n",
      "Train loss: 0.022889, Train accuracy: 0.9924\n",
      "[INFO] EPOCH: 10/10\n",
      "Train loss: 0.021378, Train accuracy: 0.9927\n",
      "[INFO] total time taken to train the model: 338.90s\n"
     ]
    }
   ],
   "source": [
    "print(\"[INFO] training the network...\")\n",
    "startTime = time.time()\n",
    "\n",
    "for e in range(EPOCHS):\n",
    "    model.train()\n",
    "    totalTrainLoss = 0\n",
    "    trainCorrect = 0\n",
    "\n",
    "    for x, y in trainDataLoader:\n",
    "        optimizer.zero_grad()\n",
    "        (x, y) = (x.to(device), y.to(device))\n",
    "        pred = model(x)\n",
    "        y = y.view(-1, 1).float()\n",
    "        y = y.to(device)\n",
    "        loss = loss_function(pred, y)\n",
    "        loss.backward()\n",
    "        optimizer.step()\n",
    "        totalTrainLoss += loss.item()\n",
    "\n",
    "        pred_binary = (pred > 0.5).float()\n",
    "        trainCorrect += (pred_binary == y).sum().item()\n",
    "\n",
    "    avgTrainLoss = totalTrainLoss / trainSteps\n",
    "    trainAccuracy = trainCorrect / len(trainDataLoader.dataset)\n",
    "\n",
    "    print(\"[INFO] EPOCH: {}/{}\".format(e + 1, EPOCHS))\n",
    "    print(\"Train loss: {:.6f}, Train accuracy: {:.4f}\".format(avgTrainLoss, trainAccuracy))\n",
    "\n",
    "endTime = time.time()\n",
    "print(\"[INFO] total time taken to train the model: {:.2f}s\".format(endTime - startTime))"
   ],
   "metadata": {
    "collapsed": false,
    "ExecuteTime": {
     "end_time": "2024-01-04T14:17:17.188081200Z",
     "start_time": "2024-01-04T14:11:38.287351800Z"
    }
   },
   "id": "9c9ad05f30f7c787",
   "execution_count": 8
  },
  {
   "cell_type": "markdown",
   "source": [
    "# Test the model on validation data"
   ],
   "metadata": {
    "collapsed": false
   },
   "id": "5eb659edc5066888"
  },
  {
   "cell_type": "code",
   "outputs": [
    {
     "name": "stdout",
     "output_type": "stream",
     "text": [
      "Validation accuracy: 0.9969\n"
     ]
    }
   ],
   "source": [
    "model.eval()\n",
    "valCorrect = 0\n",
    "\n",
    "with torch.no_grad():\n",
    "    for x, y in valDataLoader:\n",
    "        (x, y) = (x.to(device), y.to(device))\n",
    "        pred = model(x)\n",
    "        y = y.view(-1, 1).float()\n",
    "        pred_binary = (pred > 0.5).float()\n",
    "        valCorrect += (pred_binary == y).sum().item()\n",
    "\n",
    "valAccuracy = valCorrect / len(valDataLoader.dataset)\n",
    "\n",
    "print(\"Validation accuracy: {:.4f}\".format(valAccuracy))"
   ],
   "metadata": {
    "collapsed": false,
    "ExecuteTime": {
     "end_time": "2024-01-04T14:17:31.221555700Z",
     "start_time": "2024-01-04T14:17:28.607316900Z"
    }
   },
   "id": "819c4ef36f20061c",
   "execution_count": 9
  },
  {
   "cell_type": "markdown",
   "source": [
    "# Saving the model"
   ],
   "metadata": {
    "collapsed": false
   },
   "id": "5d17197a5e1bd40c"
  },
  {
   "cell_type": "code",
   "outputs": [],
   "source": [
    "torch.save(model, MODEL_PATH / \"model.pth\")"
   ],
   "metadata": {
    "collapsed": false,
    "ExecuteTime": {
     "end_time": "2024-01-04T14:18:30.332467600Z",
     "start_time": "2024-01-04T14:18:30.317456800Z"
    }
   },
   "id": "20fef1bea5632ed5",
   "execution_count": 10
  },
  {
   "cell_type": "code",
   "outputs": [],
   "source": [],
   "metadata": {
    "collapsed": false
   },
   "id": "405d282feb38bf08"
  }
 ],
 "metadata": {
  "kernelspec": {
   "display_name": "Python 3",
   "language": "python",
   "name": "python3"
  },
  "language_info": {
   "codemirror_mode": {
    "name": "ipython",
    "version": 2
   },
   "file_extension": ".py",
   "mimetype": "text/x-python",
   "name": "python",
   "nbconvert_exporter": "python",
   "pygments_lexer": "ipython2",
   "version": "2.7.6"
  }
 },
 "nbformat": 4,
 "nbformat_minor": 5
}
