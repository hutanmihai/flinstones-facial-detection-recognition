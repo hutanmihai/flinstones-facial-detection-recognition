{
 "cells": [
  {
   "cell_type": "markdown",
   "source": [
    "# Imports"
   ],
   "metadata": {
    "collapsed": false
   },
   "id": "9e447e62548b1d8d"
  },
  {
   "cell_type": "code",
   "outputs": [],
   "source": [
    "import time\n",
    "\n",
    "import torch\n",
    "import torch.nn as nn\n",
    "from torch.nn import Sequential\n",
    "from torch.optim import Adam\n",
    "from torchvision.datasets import ImageFolder\n",
    "from torch.utils.data import DataLoader\n",
    "from torchvision import transforms\n",
    "\n",
    "from src.constants import CNN_TRAIN_IMAGES_PATH, CNN_VALIDATION_IMAGES_PATH, MODEL_PATH\n",
    "import matplotlib.pyplot as plt"
   ],
   "metadata": {
    "collapsed": false,
    "ExecuteTime": {
     "end_time": "2024-01-03T23:40:49.742458200Z",
     "start_time": "2024-01-03T23:40:47.527689500Z"
    }
   },
   "id": "14f18fbf15fe3e65",
   "execution_count": 1
  },
  {
   "cell_type": "markdown",
   "source": [
    "# Constants"
   ],
   "metadata": {
    "collapsed": false
   },
   "id": "d386c3900068456c"
  },
  {
   "cell_type": "code",
   "outputs": [],
   "source": [
    "INIT_LR = 1e-4\n",
    "BATCH_SIZE = 64\n",
    "EPOCHS = 10"
   ],
   "metadata": {
    "collapsed": false,
    "ExecuteTime": {
     "end_time": "2024-01-03T23:40:49.746825700Z",
     "start_time": "2024-01-03T23:40:49.744319200Z"
    }
   },
   "id": "314d8b8f1e7b41d7",
   "execution_count": 2
  },
  {
   "cell_type": "markdown",
   "source": [
    "# Initializations"
   ],
   "metadata": {
    "collapsed": false
   },
   "id": "b470ec5a28b71279"
  },
  {
   "cell_type": "code",
   "outputs": [],
   "source": [
    "device = torch.device(\"cuda\" if torch.cuda.is_available() else \"cpu\")"
   ],
   "metadata": {
    "collapsed": false,
    "ExecuteTime": {
     "end_time": "2024-01-03T23:40:49.762469Z",
     "start_time": "2024-01-03T23:40:49.746825700Z"
    }
   },
   "id": "d5fc639de296706e",
   "execution_count": 3
  },
  {
   "cell_type": "markdown",
   "source": [
    "# Data loading"
   ],
   "metadata": {
    "collapsed": false
   },
   "id": "18edc7972ad9540a"
  },
  {
   "cell_type": "code",
   "outputs": [],
   "source": [
    "transform = transforms.Compose([transforms.ToTensor()])\n",
    "trainImages = ImageFolder(CNN_TRAIN_IMAGES_PATH, transform=transform)\n",
    "valImages = ImageFolder(CNN_VALIDATION_IMAGES_PATH, transform=transform)\n",
    "trainDataLoader = DataLoader(trainImages, shuffle=True, batch_size=BATCH_SIZE)\n",
    "valDataLoader = DataLoader(valImages, batch_size=BATCH_SIZE)"
   ],
   "metadata": {
    "collapsed": false,
    "ExecuteTime": {
     "end_time": "2024-01-03T23:40:50.076250400Z",
     "start_time": "2024-01-03T23:40:50.015414500Z"
    }
   },
   "id": "b97721b88f5e22c9",
   "execution_count": 4
  },
  {
   "cell_type": "markdown",
   "source": [
    "# Visualizing the data"
   ],
   "metadata": {
    "collapsed": false
   },
   "id": "31d29d349665f864"
  },
  {
   "cell_type": "code",
   "outputs": [
    {
     "data": {
      "text/plain": "<Figure size 1000x1000 with 2 Axes>",
      "image/png": "[encoded data removed]"
     },
     "metadata": {},
     "output_type": "display_data"
    }
   ],
   "source": [
    "plot = plt.figure(figsize=(10, 10))\n",
    "positive_found = False\n",
    "negative_found = False\n",
    "\n",
    "for x, y in trainDataLoader:\n",
    "    for i in range(BATCH_SIZE):\n",
    "        if y[i] == 0 and not negative_found:\n",
    "            negative_found = True\n",
    "            plot.add_subplot(1, 2, 1)\n",
    "            plt.imshow(x[i].permute(1, 2, 0))\n",
    "            plt.title(y[i])\n",
    "            plt.axis(\"off\")\n",
    "        elif y[i] == 1 and not positive_found:\n",
    "            positive_found = True\n",
    "            plot.add_subplot(1, 2, 2)\n",
    "            plt.imshow(x[i].permute(1, 2, 0))\n",
    "            plt.title(y[i])\n",
    "            plt.axis(\"off\")\n",
    "    break"
   ],
   "metadata": {
    "collapsed": false,
    "ExecuteTime": {
     "end_time": "2024-01-03T23:40:51.186518200Z",
     "start_time": "2024-01-03T23:40:51.083263100Z"
    }
   },
   "id": "a515e7b7f5d726aa",
   "execution_count": 5
  },
  {
   "cell_type": "markdown",
   "source": [
    "# Model"
   ],
   "metadata": {
    "collapsed": false
   },
   "id": "bd57033d885c0f90"
  },
  {
   "cell_type": "code",
   "outputs": [],
   "source": [
    "model = Sequential(\n",
    "    nn.Conv2d(in_channels=3, out_channels=16, kernel_size=3, padding=1),\n",
    "    nn.ReLU(),\n",
    "    nn.MaxPool2d(2, 2),\n",
    "    nn.Conv2d(in_channels=16, out_channels=32, kernel_size=3, padding=1),\n",
    "    nn.ReLU(),\n",
    "    nn.MaxPool2d(2, 2),\n",
    "    nn.Conv2d(in_channels=32, out_channels=64, kernel_size=3, padding=1),\n",
    "    nn.ReLU(),\n",
    "    nn.MaxPool2d(2, 2),\n",
    "    nn.Conv2d(in_channels=64, out_channels=128, kernel_size=3, padding=1),\n",
    "    nn.ReLU(),\n",
    "    nn.MaxPool2d(2, 2),\n",
    "    nn.Flatten(),\n",
    "    nn.Dropout(0.25),\n",
    "    nn.Linear(2 * 2 * 128, 512),\n",
    "    nn.ReLU(),\n",
    "    nn.Dropout(0.25),\n",
    "    nn.Linear(512, 1),\n",
    "    nn.Sigmoid(),\n",
    ").to(device)"
   ],
   "metadata": {
    "collapsed": false,
    "ExecuteTime": {
     "end_time": "2024-01-03T23:40:53.143909200Z",
     "start_time": "2024-01-03T23:40:53.087546100Z"
    }
   },
   "id": "cd5f080d0c866206",
   "execution_count": 6
  },
  {
   "cell_type": "markdown",
   "source": [
    "# Optimizer and loss function"
   ],
   "metadata": {
    "collapsed": false
   },
   "id": "8bb1a23f254ccc54"
  },
  {
   "cell_type": "code",
   "outputs": [],
   "source": [
    "optimizer = Adam(model.parameters(), lr=INIT_LR)\n",
    "loss_function = nn.BCEWithLogitsLoss()\n",
    "\n",
    "trainSteps = len(trainDataLoader.dataset) // BATCH_SIZE\n",
    "valSteps = len(valDataLoader.dataset) // BATCH_SIZE"
   ],
   "metadata": {
    "collapsed": false,
    "ExecuteTime": {
     "end_time": "2024-01-03T23:40:53.725733700Z",
     "start_time": "2024-01-03T23:40:53.724226700Z"
    }
   },
   "id": "947463307e6243ab",
   "execution_count": 7
  },
  {
   "cell_type": "markdown",
   "source": [
    "# Training"
   ],
   "metadata": {
    "collapsed": false
   },
   "id": "84047c349e13df52"
  },
  {
   "cell_type": "code",
   "outputs": [
    {
     "name": "stdout",
     "output_type": "stream",
     "text": [
      "[INFO] training the network...\n",
      "[INFO] EPOCH: 1/10\n",
      "Train loss: 0.566937, Train accuracy: 0.8649\n",
      "Validation loss: 0.551583, Validation accuracy: 0.9519\n",
      "[INFO] EPOCH: 2/10\n",
      "Train loss: 0.518177, Train accuracy: 0.9687\n",
      "Validation loss: 0.529625, Validation accuracy: 0.9845\n",
      "[INFO] EPOCH: 3/10\n",
      "Train loss: 0.515296, Train accuracy: 0.9738\n",
      "Validation loss: 0.527760, Validation accuracy: 0.9884\n",
      "[INFO] EPOCH: 4/10\n",
      "Train loss: 0.514389, Train accuracy: 0.9763\n",
      "Validation loss: 0.535319, Validation accuracy: 0.9744\n",
      "[INFO] EPOCH: 5/10\n",
      "Train loss: 0.513810, Train accuracy: 0.9771\n",
      "Validation loss: 0.530437, Validation accuracy: 0.9852\n",
      "\n",
      "[INFO] total time taken to train the model: 32.99s\n"
     ]
    }
   ],
   "source": [
    "print(\"[INFO] training the network...\")\n",
    "startTime = time.time()\n",
    "\n",
    "for e in range(5):\n",
    "    model.train()\n",
    "    totalTrainLoss = 0\n",
    "    trainCorrect = 0\n",
    "    totalValLoss = 0\n",
    "    valCorrect = 0\n",
    "\n",
    "    for x, y in trainDataLoader:\n",
    "        optimizer.zero_grad()\n",
    "        (x, y) = (x.to(device), y.to(device))\n",
    "        pred = model(x)\n",
    "        y = y.view(-1, 1).float()\n",
    "        y = y.to(device)\n",
    "        loss = loss_function(pred, y)\n",
    "        loss.backward()\n",
    "        optimizer.step()\n",
    "        totalTrainLoss += loss.item()\n",
    "\n",
    "        pred_binary = (pred > 0.5).float()\n",
    "        trainCorrect += (pred_binary == y).sum().item()\n",
    "\n",
    "    avgTrainLoss = totalTrainLoss / trainSteps\n",
    "    trainAccuracy = trainCorrect / len(trainDataLoader.dataset)\n",
    "\n",
    "    model.eval()\n",
    "    with torch.no_grad():\n",
    "        for x, y in valDataLoader:\n",
    "            (x, y) = (x.to(device), y.to(device))\n",
    "            pred = model(x)\n",
    "            y = y.view(-1, 1).float()\n",
    "            loss = loss_function(pred, y)\n",
    "            pred_binary = (pred > 0.5).float()\n",
    "            valCorrect += (pred_binary == y).sum().item()\n",
    "            totalValLoss += loss.item()\n",
    "\n",
    "    avgValLoss = totalValLoss / valSteps\n",
    "    valAccuracy = valCorrect / len(valDataLoader.dataset)\n",
    "\n",
    "    print(\"[INFO] EPOCH: {}/{}\".format(e + 1, EPOCHS))\n",
    "    print(\"Train loss: {:.6f}, Train accuracy: {:.4f}\".format(avgTrainLoss, trainAccuracy))\n",
    "    print(\"Validation loss: {:.6f}, Validation accuracy: {:.4f}\\n\".format(avgValLoss, valAccuracy))\n",
    "\n",
    "endTime = time.time()\n",
    "print(\"[INFO] total time taken to train the model: {:.2f}s\".format(endTime - startTime))"
   ],
   "metadata": {
    "collapsed": false,
    "ExecuteTime": {
     "end_time": "2024-01-03T23:41:27.483670900Z",
     "start_time": "2024-01-03T23:40:54.490230700Z"
    }
   },
   "id": "f12b72843c99d6a9",
   "execution_count": 8
  },
  {
   "cell_type": "markdown",
   "source": [
    "# Saving the model"
   ],
   "metadata": {
    "collapsed": false
   },
   "id": "5d17197a5e1bd40c"
  },
  {
   "cell_type": "code",
   "outputs": [],
   "source": [
    "torch.save(model, MODEL_PATH / \"model.pth\")"
   ],
   "metadata": {
    "collapsed": false,
    "ExecuteTime": {
     "end_time": "2024-01-03T23:41:34.928737700Z",
     "start_time": "2024-01-03T23:41:34.905713600Z"
    }
   },
   "id": "20fef1bea5632ed5",
   "execution_count": 9
  }
 ],
 "metadata": {
  "kernelspec": {
   "display_name": "Python 3",
   "language": "python",
   "name": "python3"
  },
  "language_info": {
   "codemirror_mode": {
    "name": "ipython",
    "version": 2
   },
   "file_extension": ".py",
   "mimetype": "text/x-python",
   "name": "python",
   "nbconvert_exporter": "python",
   "pygments_lexer": "ipython2",
   "version": "2.7.6"
  }
 },
 "nbformat": 4,
 "nbformat_minor": 5
}
