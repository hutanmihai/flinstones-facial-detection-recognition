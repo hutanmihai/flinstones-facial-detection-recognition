{
 "cells": [
  {
   "cell_type": "markdown",
   "source": [
    "# Imports"
   ],
   "metadata": {
    "collapsed": false
   },
   "id": "6c7929bf3dad5d28"
  },
  {
   "cell_type": "code",
   "outputs": [],
   "source": [
    "import time\n",
    "\n",
    "import torch\n",
    "import torch.nn as nn\n",
    "from torch.nn import Sequential\n",
    "from torch.optim import Adam\n",
    "from torch.utils.data import DataLoader, Dataset\n",
    "from torchvision import transforms\n",
    "\n",
    "import matplotlib.pyplot as plt\n",
    "import cv2 as cv\n",
    "\n",
    "from src.constants import (\n",
    "    COLLAPSED_ANNOTATIONS_PATH,\n",
    "    POSITIVES_PATH,\n",
    "    POSITIVES_VALIDATION_PATH,\n",
    "    VALIDATION_ANNOTATIONS_PATH,\n",
    "    MODEL_PATH,\n",
    "    LABELS_MAP,\n",
    ")\n",
    "from src.utils.readers import get_images, get_annotations\n",
    "\n",
    "from src.utils.helpers import check_if_dirs_exist"
   ],
   "metadata": {
    "collapsed": false,
    "ExecuteTime": {
     "end_time": "2024-01-16T22:50:04.911785600Z",
     "start_time": "2024-01-16T22:50:02.700565300Z"
    }
   },
   "id": "77f133cac5222642",
   "execution_count": 1
  },
  {
   "cell_type": "markdown",
   "source": [
    "# Constants"
   ],
   "metadata": {
    "collapsed": false
   },
   "id": "aac246d817886e2c"
  },
  {
   "cell_type": "code",
   "outputs": [],
   "source": [
    "from pathlib import Path\n",
    "\n",
    "MODEL_PATH = Path(\"../\" + str(MODEL_PATH))\n",
    "POSITIVES_PATH = Path(\"../\" + str(POSITIVES_PATH))\n",
    "POSITIVES_VALIDATION_PATH = Path(\"../\" + str(POSITIVES_VALIDATION_PATH))\n",
    "COLLAPSED_ANNOTATIONS_PATH = Path(\"../\" + str(COLLAPSED_ANNOTATIONS_PATH))\n",
    "VALIDATION_ANNOTATIONS_PATH = Path(\"../\" + str(VALIDATION_ANNOTATIONS_PATH))\n",
    "\n",
    "INIT_LR = 1e-4\n",
    "BATCH_SIZE = 64\n",
    "EPOCHS = 100"
   ],
   "metadata": {
    "collapsed": false,
    "ExecuteTime": {
     "end_time": "2024-01-16T22:50:04.916066Z",
     "start_time": "2024-01-16T22:50:04.912285800Z"
    }
   },
   "id": "83a319fca0f04fe",
   "execution_count": 2
  },
  {
   "cell_type": "markdown",
   "source": [
    "# Initializations"
   ],
   "metadata": {
    "collapsed": false
   },
   "id": "31ef9fcd2b54222a"
  },
  {
   "cell_type": "code",
   "outputs": [],
   "source": [
    "device = torch.device(\"cuda\" if torch.cuda.is_available() else \"cpu\")"
   ],
   "metadata": {
    "collapsed": false,
    "ExecuteTime": {
     "end_time": "2024-01-16T22:50:04.935654Z",
     "start_time": "2024-01-16T22:50:04.916066Z"
    }
   },
   "id": "c0a884308170696e",
   "execution_count": 3
  },
  {
   "cell_type": "markdown",
   "source": [
    "# Data loading"
   ],
   "metadata": {
    "collapsed": false
   },
   "id": "ea4ee06f644be9d1"
  },
  {
   "cell_type": "code",
   "outputs": [],
   "source": [
    "class CustomDataset(Dataset):\n",
    "    def __init__(self, images, labels):\n",
    "        self.images = images\n",
    "        self.labels = labels\n",
    "        self.transform = transforms.Compose([transforms.ToTensor()])\n",
    "\n",
    "    def __len__(self):\n",
    "        return len(self.images)\n",
    "\n",
    "    def __getitem__(self, idx):\n",
    "        image = self.images[idx]\n",
    "        label = self.labels[idx]\n",
    "        label = torch.tensor(LABELS_MAP[label], dtype=torch.long)\n",
    "        image = self.transform(image)\n",
    "\n",
    "        return image, label"
   ],
   "metadata": {
    "collapsed": false,
    "ExecuteTime": {
     "end_time": "2024-01-16T22:50:04.940011300Z",
     "start_time": "2024-01-16T22:50:04.934653Z"
    }
   },
   "id": "7284c4872dbf6103",
   "execution_count": 4
  },
  {
   "cell_type": "code",
   "outputs": [
    {
     "name": "stdout",
     "output_type": "stream",
     "text": [
      "[INFO] number of training images: 13952\n",
      "[INFO] number of training labels: 13952\n",
      "[INFO] number of validation images: 644\n",
      "[INFO] number of validation labels: 644\n"
     ]
    }
   ],
   "source": [
    "trainImages = get_images(POSITIVES_PATH)\n",
    "trainImages = [cv.cvtColor(image, cv.COLOR_BGR2RGB) for image in trainImages]\n",
    "trainAnnotations = get_annotations(COLLAPSED_ANNOTATIONS_PATH)\n",
    "trainLabels = []\n",
    "\n",
    "valImages = get_images(POSITIVES_VALIDATION_PATH)\n",
    "valImages = [cv.cvtColor(image, cv.COLOR_BGR2RGB) for image in valImages]\n",
    "valAnnotations = get_annotations(VALIDATION_ANNOTATIONS_PATH)\n",
    "valLabels = []\n",
    "\n",
    "for image_name, detections_list in trainAnnotations.items():\n",
    "    for _, char in detections_list:\n",
    "        trainLabels.append(char)\n",
    "        trainLabels.append(char)\n",
    "\n",
    "for image_name, detections_list in valAnnotations.items():\n",
    "    for _, char in detections_list:\n",
    "        valLabels.append(char)\n",
    "        valLabels.append(char)\n",
    "\n",
    "trainDataset = CustomDataset(trainImages, trainLabels)\n",
    "valDataset = CustomDataset(valImages, valLabels)\n",
    "\n",
    "trainDataLoader = DataLoader(trainDataset, batch_size=BATCH_SIZE, shuffle=True)\n",
    "valDataLoader = DataLoader(valDataset, batch_size=BATCH_SIZE, shuffle=True)\n",
    "\n",
    "print(\"[INFO] number of training images: {}\".format(len(trainImages)))\n",
    "print(\"[INFO] number of training labels: {}\".format(len(trainLabels)))\n",
    "print(\"[INFO] number of validation images: {}\".format(len(valImages)))\n",
    "print(\"[INFO] number of validation labels: {}\".format(len(valLabels)))"
   ],
   "metadata": {
    "collapsed": false,
    "ExecuteTime": {
     "end_time": "2024-01-16T22:50:08.360974200Z",
     "start_time": "2024-01-16T22:50:04.942510400Z"
    }
   },
   "id": "cfca3f47432ccdf7",
   "execution_count": 5
  },
  {
   "cell_type": "markdown",
   "source": [
    "# Visualize data"
   ],
   "metadata": {
    "collapsed": false
   },
   "id": "95d26c7ebdcaaa96"
  },
  {
   "cell_type": "code",
   "outputs": [
    {
     "data": {
      "text/plain": "<Figure size 1500x500 with 5 Axes>",
      "image/png": "[encoded data removed]"
     },
     "metadata": {},
     "output_type": "display_data"
    }
   ],
   "source": [
    "found = set()  # Using a set to store unique labels found\n",
    "fig, axes = plt.subplots(1, 5, figsize=(15, 5))  # Creating subplots for 5 images\n",
    "\n",
    "for images, labels in trainDataLoader:\n",
    "    for image, label in zip(images, labels):\n",
    "        if label.item() not in found:\n",
    "            found.add(label.item())\n",
    "            image = image.permute(1, 2, 0).numpy()\n",
    "\n",
    "            # Plot the image in the next available subplot\n",
    "            ax = axes[len(found) - 1]\n",
    "            ax.imshow(image)\n",
    "            ax.set_title(label)\n",
    "            ax.axis(\"off\")\n",
    "\n",
    "        if len(found) == 5:\n",
    "            break\n",
    "    if len(found) == 5:\n",
    "        break\n",
    "\n",
    "# Show the subplots\n",
    "plt.tight_layout()\n",
    "plt.show()"
   ],
   "metadata": {
    "collapsed": false,
    "ExecuteTime": {
     "end_time": "2024-01-16T22:50:08.529646100Z",
     "start_time": "2024-01-16T22:50:08.362474Z"
    }
   },
   "id": "35e2d469d196c7dd",
   "execution_count": 6
  },
  {
   "cell_type": "markdown",
   "source": [
    "# Data frequency"
   ],
   "metadata": {
    "collapsed": false
   },
   "id": "db29b6089988a7b1"
  },
  {
   "cell_type": "code",
   "outputs": [
    {
     "data": {
      "text/plain": "<Figure size 800x600 with 1 Axes>",
      "image/png": "[encoded data removed]"
     },
     "metadata": {},
     "output_type": "display_data"
    }
   ],
   "source": [
    "from collections import Counter\n",
    "\n",
    "# Choose between trainLabels or valLabels\n",
    "labels = trainLabels  # Change this to valLabels for validation dataset\n",
    "\n",
    "# Count occurrences of each label\n",
    "label_counts = Counter(labels)\n",
    "\n",
    "# Plotting the bar chart\n",
    "plt.figure(figsize=(8, 6))\n",
    "plt.bar(label_counts.keys(), label_counts.values())\n",
    "plt.title(\"Label Frequency Distribution\")\n",
    "plt.xlabel(\"Labels\")\n",
    "plt.ylabel(\"Frequency\")\n",
    "plt.show()"
   ],
   "metadata": {
    "collapsed": false,
    "ExecuteTime": {
     "end_time": "2024-01-16T22:50:08.599094600Z",
     "start_time": "2024-01-16T22:50:08.530646100Z"
    }
   },
   "id": "5e09b2ae0e82e27b",
   "execution_count": 7
  },
  {
   "cell_type": "markdown",
   "source": [
    "# Model"
   ],
   "metadata": {
    "collapsed": false
   },
   "id": "cd461faabde96911"
  },
  {
   "cell_type": "code",
   "outputs": [],
   "source": [
    "model = Sequential(\n",
    "    # Input: 3x40x40\n",
    "    nn.Conv2d(in_channels=3, out_channels=16, kernel_size=3, padding=1),\n",
    "    nn.ReLU(),\n",
    "    nn.MaxPool2d(2, 2),\n",
    "    nn.Conv2d(in_channels=16, out_channels=32, kernel_size=3, padding=1),\n",
    "    nn.ReLU(),\n",
    "    nn.MaxPool2d(2, 2),\n",
    "    nn.Conv2d(in_channels=32, out_channels=64, kernel_size=3, padding=1),\n",
    "    nn.ReLU(),\n",
    "    nn.MaxPool2d(2, 2),\n",
    "    nn.Conv2d(in_channels=64, out_channels=64, kernel_size=3, padding=1),\n",
    "    nn.ReLU(),\n",
    "    nn.MaxPool2d(2, 2),\n",
    "    nn.Flatten(),\n",
    "    nn.Dropout(0.25),\n",
    "    nn.Linear(256, 256),\n",
    "    nn.ReLU(),\n",
    "    nn.Dropout(0.25),\n",
    "    nn.Linear(256, 5),\n",
    "    nn.Softmax(1),\n",
    ").to(device)"
   ],
   "metadata": {
    "collapsed": false,
    "ExecuteTime": {
     "end_time": "2024-01-16T22:50:08.664455600Z",
     "start_time": "2024-01-16T22:50:08.601094800Z"
    }
   },
   "id": "26a5e5a7184664c9",
   "execution_count": 8
  },
  {
   "cell_type": "markdown",
   "source": [
    "# Optimizer and loss function"
   ],
   "metadata": {
    "collapsed": false
   },
   "id": "55ce6a99c08c854b"
  },
  {
   "cell_type": "code",
   "outputs": [],
   "source": [
    "optimizer = Adam(model.parameters(), lr=INIT_LR)\n",
    "loss_function = nn.CrossEntropyLoss()\n",
    "\n",
    "trainSteps = len(trainDataLoader.dataset) // BATCH_SIZE\n",
    "valSteps = len(valDataLoader.dataset) // BATCH_SIZE"
   ],
   "metadata": {
    "collapsed": false,
    "ExecuteTime": {
     "end_time": "2024-01-16T22:50:08.667028300Z",
     "start_time": "2024-01-16T22:50:08.665517200Z"
    }
   },
   "id": "53d85cd8fcd520e4",
   "execution_count": 9
  },
  {
   "cell_type": "markdown",
   "source": [
    "# Training"
   ],
   "metadata": {
    "collapsed": false
   },
   "id": "499c9c72432142e2"
  },
  {
   "cell_type": "code",
   "outputs": [
    {
     "name": "stdout",
     "output_type": "stream",
     "text": [
      "[INFO] training the network...\n",
      "[INFO] EPOCH: 1/100\n",
      "Train loss: 1.574709, Train accuracy: 0.2752\n",
      "[INFO] EPOCH: 2/100\n",
      "Train loss: 1.306134, Train accuracy: 0.6204\n",
      "[INFO] EPOCH: 3/100\n",
      "Train loss: 1.143342, Train accuracy: 0.7754\n",
      "[INFO] EPOCH: 4/100\n",
      "Train loss: 1.105294, Train accuracy: 0.8073\n",
      "[INFO] EPOCH: 5/100\n",
      "Train loss: 1.081589, Train accuracy: 0.8278\n",
      "[INFO] EPOCH: 6/100\n",
      "Train loss: 1.070765, Train accuracy: 0.8397\n",
      "[INFO] EPOCH: 7/100\n",
      "Train loss: 1.061597, Train accuracy: 0.8453\n",
      "[INFO] EPOCH: 8/100\n",
      "Train loss: 1.051479, Train accuracy: 0.8568\n",
      "[INFO] EPOCH: 9/100\n",
      "Train loss: 1.043780, Train accuracy: 0.8643\n",
      "[INFO] EPOCH: 10/100\n",
      "Train loss: 1.039532, Train accuracy: 0.8687\n",
      "[INFO] EPOCH: 11/100\n",
      "Train loss: 1.037218, Train accuracy: 0.8701\n",
      "[INFO] EPOCH: 12/100\n",
      "Train loss: 1.032314, Train accuracy: 0.8756\n",
      "[INFO] EPOCH: 13/100\n",
      "Train loss: 1.027530, Train accuracy: 0.8787\n",
      "[INFO] EPOCH: 14/100\n",
      "Train loss: 1.025762, Train accuracy: 0.8802\n",
      "[INFO] EPOCH: 15/100\n",
      "Train loss: 1.023928, Train accuracy: 0.8827\n",
      "[INFO] EPOCH: 16/100\n",
      "Train loss: 1.021469, Train accuracy: 0.8843\n",
      "[INFO] EPOCH: 17/100\n",
      "Train loss: 1.019556, Train accuracy: 0.8865\n",
      "[INFO] EPOCH: 18/100\n",
      "Train loss: 1.017665, Train accuracy: 0.8888\n",
      "[INFO] EPOCH: 19/100\n",
      "Train loss: 1.014027, Train accuracy: 0.8930\n",
      "[INFO] EPOCH: 20/100\n",
      "Train loss: 1.011309, Train accuracy: 0.8962\n",
      "[INFO] EPOCH: 21/100\n",
      "Train loss: 1.004750, Train accuracy: 0.9039\n",
      "[INFO] EPOCH: 22/100\n",
      "Train loss: 1.005284, Train accuracy: 0.9020\n",
      "[INFO] EPOCH: 23/100\n",
      "Train loss: 0.997546, Train accuracy: 0.9103\n",
      "[INFO] EPOCH: 24/100\n",
      "Train loss: 0.996171, Train accuracy: 0.9119\n",
      "[INFO] EPOCH: 25/100\n",
      "Train loss: 0.991362, Train accuracy: 0.9171\n",
      "[INFO] EPOCH: 26/100\n",
      "Train loss: 0.992108, Train accuracy: 0.9153\n",
      "[INFO] EPOCH: 27/100\n",
      "Train loss: 0.989192, Train accuracy: 0.9180\n",
      "[INFO] EPOCH: 28/100\n",
      "Train loss: 0.986806, Train accuracy: 0.9203\n",
      "[INFO] EPOCH: 29/100\n",
      "Train loss: 0.984151, Train accuracy: 0.9229\n",
      "[INFO] EPOCH: 30/100\n",
      "Train loss: 0.983243, Train accuracy: 0.9244\n",
      "[INFO] EPOCH: 31/100\n",
      "Train loss: 0.982134, Train accuracy: 0.9247\n",
      "[INFO] EPOCH: 32/100\n",
      "Train loss: 0.979129, Train accuracy: 0.9278\n",
      "[INFO] EPOCH: 33/100\n",
      "Train loss: 0.978248, Train accuracy: 0.9288\n",
      "[INFO] EPOCH: 34/100\n",
      "Train loss: 0.977862, Train accuracy: 0.9283\n",
      "[INFO] EPOCH: 35/100\n",
      "Train loss: 0.976373, Train accuracy: 0.9310\n",
      "[INFO] EPOCH: 36/100\n",
      "Train loss: 0.976545, Train accuracy: 0.9297\n",
      "[INFO] EPOCH: 37/100\n",
      "Train loss: 0.976078, Train accuracy: 0.9305\n",
      "[INFO] EPOCH: 38/100\n",
      "Train loss: 0.974227, Train accuracy: 0.9326\n",
      "[INFO] EPOCH: 39/100\n",
      "Train loss: 0.974230, Train accuracy: 0.9318\n",
      "[INFO] EPOCH: 40/100\n",
      "Train loss: 0.972545, Train accuracy: 0.9341\n",
      "[INFO] EPOCH: 41/100\n",
      "Train loss: 0.971206, Train accuracy: 0.9353\n",
      "[INFO] EPOCH: 42/100\n",
      "Train loss: 0.969404, Train accuracy: 0.9380\n",
      "[INFO] EPOCH: 43/100\n",
      "Train loss: 0.969587, Train accuracy: 0.9371\n",
      "[INFO] EPOCH: 44/100\n",
      "Train loss: 0.970045, Train accuracy: 0.9357\n",
      "[INFO] EPOCH: 45/100\n",
      "Train loss: 0.966299, Train accuracy: 0.9407\n",
      "[INFO] EPOCH: 46/100\n",
      "Train loss: 0.966569, Train accuracy: 0.9402\n",
      "[INFO] EPOCH: 47/100\n",
      "Train loss: 0.967968, Train accuracy: 0.9386\n",
      "[INFO] EPOCH: 48/100\n",
      "Train loss: 0.965313, Train accuracy: 0.9404\n",
      "[INFO] EPOCH: 49/100\n",
      "Train loss: 0.965561, Train accuracy: 0.9409\n",
      "[INFO] EPOCH: 50/100\n",
      "Train loss: 0.963671, Train accuracy: 0.9434\n",
      "[INFO] EPOCH: 51/100\n",
      "Train loss: 0.964768, Train accuracy: 0.9417\n",
      "[INFO] EPOCH: 52/100\n",
      "Train loss: 0.962978, Train accuracy: 0.9433\n",
      "[INFO] EPOCH: 53/100\n",
      "Train loss: 0.963118, Train accuracy: 0.9423\n",
      "[INFO] EPOCH: 54/100\n",
      "Train loss: 0.962522, Train accuracy: 0.9440\n",
      "[INFO] EPOCH: 55/100\n",
      "Train loss: 0.959426, Train accuracy: 0.9470\n",
      "[INFO] EPOCH: 56/100\n",
      "Train loss: 0.961660, Train accuracy: 0.9442\n",
      "[INFO] EPOCH: 57/100\n",
      "Train loss: 0.960102, Train accuracy: 0.9462\n",
      "[INFO] EPOCH: 58/100\n",
      "Train loss: 0.960862, Train accuracy: 0.9451\n",
      "[INFO] EPOCH: 59/100\n",
      "Train loss: 0.959097, Train accuracy: 0.9474\n",
      "[INFO] EPOCH: 60/100\n",
      "Train loss: 0.961079, Train accuracy: 0.9446\n",
      "[INFO] EPOCH: 61/100\n",
      "Train loss: 0.957660, Train accuracy: 0.9492\n",
      "[INFO] EPOCH: 62/100\n",
      "Train loss: 0.959172, Train accuracy: 0.9469\n",
      "[INFO] EPOCH: 63/100\n",
      "Train loss: 0.959674, Train accuracy: 0.9456\n",
      "[INFO] EPOCH: 64/100\n",
      "Train loss: 0.956825, Train accuracy: 0.9498\n",
      "[INFO] EPOCH: 65/100\n",
      "Train loss: 0.957822, Train accuracy: 0.9486\n",
      "[INFO] EPOCH: 66/100\n",
      "Train loss: 0.956608, Train accuracy: 0.9493\n",
      "[INFO] EPOCH: 67/100\n",
      "Train loss: 0.956556, Train accuracy: 0.9485\n",
      "[INFO] EPOCH: 68/100\n",
      "Train loss: 0.955696, Train accuracy: 0.9505\n",
      "[INFO] EPOCH: 69/100\n",
      "Train loss: 0.956694, Train accuracy: 0.9492\n",
      "[INFO] EPOCH: 70/100\n",
      "Train loss: 0.956565, Train accuracy: 0.9493\n",
      "[INFO] EPOCH: 71/100\n",
      "Train loss: 0.954763, Train accuracy: 0.9515\n",
      "[INFO] EPOCH: 72/100\n",
      "Train loss: 0.954611, Train accuracy: 0.9510\n",
      "[INFO] EPOCH: 73/100\n",
      "Train loss: 0.955564, Train accuracy: 0.9495\n",
      "[INFO] EPOCH: 74/100\n",
      "Train loss: 0.953927, Train accuracy: 0.9530\n",
      "[INFO] EPOCH: 75/100\n",
      "Train loss: 0.952075, Train accuracy: 0.9544\n",
      "[INFO] EPOCH: 76/100\n",
      "Train loss: 0.955530, Train accuracy: 0.9496\n",
      "[INFO] EPOCH: 77/100\n",
      "Train loss: 0.953986, Train accuracy: 0.9515\n",
      "[INFO] EPOCH: 78/100\n",
      "Train loss: 0.953849, Train accuracy: 0.9520\n",
      "[INFO] EPOCH: 79/100\n",
      "Train loss: 0.952441, Train accuracy: 0.9533\n",
      "[INFO] EPOCH: 80/100\n",
      "Train loss: 0.950738, Train accuracy: 0.9546\n",
      "[INFO] EPOCH: 81/100\n",
      "Train loss: 0.950484, Train accuracy: 0.9558\n",
      "[INFO] EPOCH: 82/100\n",
      "Train loss: 0.949792, Train accuracy: 0.9564\n",
      "[INFO] EPOCH: 83/100\n",
      "Train loss: 0.951631, Train accuracy: 0.9543\n",
      "[INFO] EPOCH: 84/100\n",
      "Train loss: 0.951736, Train accuracy: 0.9539\n",
      "[INFO] EPOCH: 85/100\n",
      "Train loss: 0.950727, Train accuracy: 0.9557\n",
      "[INFO] EPOCH: 86/100\n",
      "Train loss: 0.949144, Train accuracy: 0.9572\n",
      "[INFO] EPOCH: 87/100\n",
      "Train loss: 0.949360, Train accuracy: 0.9563\n",
      "[INFO] EPOCH: 88/100\n",
      "Train loss: 0.950396, Train accuracy: 0.9556\n",
      "[INFO] EPOCH: 89/100\n",
      "Train loss: 0.948251, Train accuracy: 0.9574\n",
      "[INFO] EPOCH: 90/100\n",
      "Train loss: 0.948856, Train accuracy: 0.9575\n",
      "[INFO] EPOCH: 91/100\n",
      "Train loss: 0.948044, Train accuracy: 0.9586\n",
      "[INFO] EPOCH: 92/100\n",
      "Train loss: 0.947569, Train accuracy: 0.9576\n",
      "[INFO] EPOCH: 93/100\n",
      "Train loss: 0.947721, Train accuracy: 0.9580\n",
      "[INFO] EPOCH: 94/100\n",
      "Train loss: 0.948496, Train accuracy: 0.9567\n",
      "[INFO] EPOCH: 95/100\n",
      "Train loss: 0.947377, Train accuracy: 0.9581\n",
      "[INFO] EPOCH: 96/100\n",
      "Train loss: 0.947961, Train accuracy: 0.9571\n",
      "[INFO] EPOCH: 97/100\n",
      "Train loss: 0.945840, Train accuracy: 0.9596\n",
      "[INFO] EPOCH: 98/100\n",
      "Train loss: 0.947226, Train accuracy: 0.9586\n",
      "[INFO] EPOCH: 99/100\n",
      "Train loss: 0.946184, Train accuracy: 0.9593\n",
      "[INFO] EPOCH: 100/100\n",
      "Train loss: 0.946987, Train accuracy: 0.9583\n",
      "[INFO] total time taken to train the model: 88.24s\n"
     ]
    }
   ],
   "source": [
    "print(\"[INFO] training the network...\")\n",
    "startTime = time.time()\n",
    "\n",
    "for e in range(EPOCHS):\n",
    "    model.train()\n",
    "    totalTrainLoss = 0\n",
    "    trainCorrect = 0\n",
    "\n",
    "    for x, y in trainDataLoader:\n",
    "        optimizer.zero_grad()\n",
    "        (x, y) = (x.to(device), y.to(device))\n",
    "        pred = model(x)\n",
    "        loss = loss_function(pred, y)\n",
    "        loss.backward()\n",
    "        optimizer.step()\n",
    "        totalTrainLoss += loss.item()\n",
    "\n",
    "        pred = torch.argmax(pred, dim=1)\n",
    "        trainCorrect += (pred == y).sum().item()\n",
    "\n",
    "    avgTrainLoss = totalTrainLoss / trainSteps\n",
    "    trainAccuracy = trainCorrect / len(trainDataLoader.dataset)\n",
    "\n",
    "    print(\"[INFO] EPOCH: {}/{}\".format(e + 1, EPOCHS))\n",
    "    print(\"Train loss: {:.6f}, Train accuracy: {:.4f}\".format(avgTrainLoss, trainAccuracy))\n",
    "\n",
    "endTime = time.time()\n",
    "print(\"[INFO] total time taken to train the model: {:.2f}s\".format(endTime - startTime))"
   ],
   "metadata": {
    "collapsed": false,
    "ExecuteTime": {
     "end_time": "2024-01-16T22:51:36.913095700Z",
     "start_time": "2024-01-16T22:50:08.669028500Z"
    }
   },
   "id": "5dfa94eef745b540",
   "execution_count": 10
  },
  {
   "cell_type": "markdown",
   "source": [
    "# Test the model on validation data"
   ],
   "metadata": {
    "collapsed": false
   },
   "id": "bfd4cc3c9722fb14"
  },
  {
   "cell_type": "code",
   "outputs": [
    {
     "name": "stdout",
     "output_type": "stream",
     "text": [
      "Validation accuracy: 0.9752\n"
     ]
    }
   ],
   "source": [
    "model.eval()\n",
    "valCorrect = 0\n",
    "\n",
    "with torch.no_grad():\n",
    "    for x, y in valDataLoader:\n",
    "        (x, y) = (x.to(device), y.to(device))\n",
    "        pred = model(x)\n",
    "        pred = torch.argmax(pred, dim=1)\n",
    "        valCorrect += (pred == y).sum().item()\n",
    "\n",
    "valAccuracy = valCorrect / len(valDataLoader.dataset)\n",
    "\n",
    "print(\"Validation accuracy: {:.4f}\".format(valAccuracy))"
   ],
   "metadata": {
    "collapsed": false,
    "ExecuteTime": {
     "end_time": "2024-01-16T22:51:36.958929700Z",
     "start_time": "2024-01-16T22:51:36.912095400Z"
    }
   },
   "id": "8d0ac8fcc0caa19b",
   "execution_count": 11
  },
  {
   "cell_type": "markdown",
   "source": [
    "# Saving the model"
   ],
   "metadata": {
    "collapsed": false
   },
   "id": "ee763d0e0fd398c2"
  },
  {
   "cell_type": "code",
   "outputs": [],
   "source": [
    "check_if_dirs_exist([MODEL_PATH])\n",
    "model_scripted = torch.jit.script(model)\n",
    "model_scripted.save(str(MODEL_PATH / \"task2_cnn.pth\"))"
   ],
   "metadata": {
    "collapsed": false,
    "ExecuteTime": {
     "end_time": "2024-01-16T22:51:37.011410800Z",
     "start_time": "2024-01-16T22:51:36.958431100Z"
    }
   },
   "id": "41d7f4e2347cb26c",
   "execution_count": 12
  }
 ],
 "metadata": {
  "kernelspec": {
   "display_name": "Python 3",
   "language": "python",
   "name": "python3"
  },
  "language_info": {
   "codemirror_mode": {
    "name": "ipython",
    "version": 2
   },
   "file_extension": ".py",
   "mimetype": "text/x-python",
   "name": "python",
   "nbconvert_exporter": "python",
   "pygments_lexer": "ipython2",
   "version": "2.7.6"
  }
 },
 "nbformat": 4,
 "nbformat_minor": 5
}
